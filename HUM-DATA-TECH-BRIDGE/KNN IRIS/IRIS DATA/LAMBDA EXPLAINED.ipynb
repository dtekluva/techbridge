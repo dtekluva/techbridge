{
 "cells": [
  {
   "cell_type": "code",
   "execution_count": 1,
   "metadata": {},
   "outputs": [],
   "source": [
    "import random"
   ]
  },
  {
   "cell_type": "code",
   "execution_count": 4,
   "metadata": {},
   "outputs": [],
   "source": [
    "vals = [[random.randint(1,50), random.randint(10,200), random.choice(list(\"abcde\"))] for i in range(50)]"
   ]
  },
  {
   "cell_type": "code",
   "execution_count": 34,
   "metadata": {},
   "outputs": [],
   "source": [
    "def return_value(x):\n",
    "    print(\"This is the current value for x --> : \", f\"{x}\".ljust(15), \"and this the the first x value --> \", f\"{x[1]}\".ljust(15))\n",
    "    return x[2]\n",
    "vals.sort(key = lambda value: value[1])\n",
    "# vals.sort(key = return_value)"
   ]
  },
  {
   "cell_type": "code",
   "execution_count": 35,
   "metadata": {},
   "outputs": [
    {
     "data": {
      "text/plain": [
       "[[38, 11, 'c'],\n",
       " [26, 14, 'b'],\n",
       " [50, 15, 'b'],\n",
       " [12, 21, 'a'],\n",
       " [39, 23, 'a'],\n",
       " [44, 29, 'd'],\n",
       " [30, 34, 'a'],\n",
       " [44, 37, 'a'],\n",
       " [25, 41, 'e'],\n",
       " [35, 43, 'e'],\n",
       " [10, 46, 'a'],\n",
       " [46, 48, 'e'],\n",
       " [36, 51, 'e'],\n",
       " [1, 63, 'd'],\n",
       " [36, 65, 'b'],\n",
       " [4, 65, 'e'],\n",
       " [17, 68, 'a'],\n",
       " [15, 68, 'e'],\n",
       " [10, 76, 'a'],\n",
       " [48, 76, 'c'],\n",
       " [5, 79, 'd'],\n",
       " [46, 79, 'd'],\n",
       " [34, 82, 'c'],\n",
       " [30, 87, 'd'],\n",
       " [49, 91, 'e'],\n",
       " [31, 95, 'a'],\n",
       " [32, 101, 'a'],\n",
       " [15, 108, 'c'],\n",
       " [20, 117, 'd'],\n",
       " [41, 121, 'd'],\n",
       " [9, 123, 'e'],\n",
       " [50, 135, 'a'],\n",
       " [29, 140, 'a'],\n",
       " [45, 155, 'b'],\n",
       " [33, 159, 'a'],\n",
       " [17, 160, 'd'],\n",
       " [48, 160, 'd'],\n",
       " [28, 161, 'e'],\n",
       " [4, 168, 'c'],\n",
       " [36, 173, 'a'],\n",
       " [10, 174, 'b'],\n",
       " [33, 174, 'e'],\n",
       " [28, 175, 'b'],\n",
       " [18, 182, 'e'],\n",
       " [25, 186, 'd'],\n",
       " [31, 189, 'b'],\n",
       " [28, 192, 'd'],\n",
       " [32, 194, 'b'],\n",
       " [49, 194, 'd'],\n",
       " [15, 197, 'b']]"
      ]
     },
     "execution_count": 35,
     "metadata": {},
     "output_type": "execute_result"
    }
   ],
   "source": [
    "vals"
   ]
  },
  {
   "cell_type": "code",
   "execution_count": 45,
   "metadata": {},
   "outputs": [],
   "source": [
    "def alter_list(value):\n",
    "    return [value[0]-10, value[0], value[1], value[2]]\n",
    "\n",
    "# value = map(lambda x: [x[0]-10, x[0], x[1], x[2]], vals)\n",
    "value = map(alter_list, vals)"
   ]
  },
  {
   "cell_type": "code",
   "execution_count": 46,
   "metadata": {},
   "outputs": [
    {
     "data": {
      "text/plain": [
       "[[28, 38, 11, 'c'],\n",
       " [16, 26, 14, 'b'],\n",
       " [40, 50, 15, 'b'],\n",
       " [2, 12, 21, 'a'],\n",
       " [29, 39, 23, 'a'],\n",
       " [34, 44, 29, 'd'],\n",
       " [20, 30, 34, 'a'],\n",
       " [34, 44, 37, 'a'],\n",
       " [15, 25, 41, 'e'],\n",
       " [25, 35, 43, 'e'],\n",
       " [0, 10, 46, 'a'],\n",
       " [36, 46, 48, 'e'],\n",
       " [26, 36, 51, 'e'],\n",
       " [-9, 1, 63, 'd'],\n",
       " [26, 36, 65, 'b'],\n",
       " [-6, 4, 65, 'e'],\n",
       " [7, 17, 68, 'a'],\n",
       " [5, 15, 68, 'e'],\n",
       " [0, 10, 76, 'a'],\n",
       " [38, 48, 76, 'c'],\n",
       " [-5, 5, 79, 'd'],\n",
       " [36, 46, 79, 'd'],\n",
       " [24, 34, 82, 'c'],\n",
       " [20, 30, 87, 'd'],\n",
       " [39, 49, 91, 'e'],\n",
       " [21, 31, 95, 'a'],\n",
       " [22, 32, 101, 'a'],\n",
       " [5, 15, 108, 'c'],\n",
       " [10, 20, 117, 'd'],\n",
       " [31, 41, 121, 'd'],\n",
       " [-1, 9, 123, 'e'],\n",
       " [40, 50, 135, 'a'],\n",
       " [19, 29, 140, 'a'],\n",
       " [35, 45, 155, 'b'],\n",
       " [23, 33, 159, 'a'],\n",
       " [7, 17, 160, 'd'],\n",
       " [38, 48, 160, 'd'],\n",
       " [18, 28, 161, 'e'],\n",
       " [-6, 4, 168, 'c'],\n",
       " [26, 36, 173, 'a'],\n",
       " [0, 10, 174, 'b'],\n",
       " [23, 33, 174, 'e'],\n",
       " [18, 28, 175, 'b'],\n",
       " [8, 18, 182, 'e'],\n",
       " [15, 25, 186, 'd'],\n",
       " [21, 31, 189, 'b'],\n",
       " [18, 28, 192, 'd'],\n",
       " [22, 32, 194, 'b'],\n",
       " [39, 49, 194, 'd'],\n",
       " [5, 15, 197, 'b']]"
      ]
     },
     "execution_count": 46,
     "metadata": {},
     "output_type": "execute_result"
    }
   ],
   "source": [
    "list(value)"
   ]
  },
  {
   "cell_type": "code",
   "execution_count": 50,
   "metadata": {},
   "outputs": [],
   "source": [
    "names = [\"bolu\", \"jacob\", \"shayo\", \"kunle\"]\n",
    "\n",
    "saluted_names = map(lambda name: \"Mr. \"+ name.capitalize(), names)\n",
    "list(saluted_names)"
   ]
  },
  {
   "cell_type": "code",
   "execution_count": 54,
   "metadata": {},
   "outputs": [
    {
     "data": {
      "text/plain": [
       "['Mrs. Bolu', 'Mr. Jacob', 'Mrs. Shayo', 'Mr. Kunle']"
      ]
     },
     "execution_count": 54,
     "metadata": {},
     "output_type": "execute_result"
    }
   ],
   "source": [
    "names = [(\"bolu\", \"f\"), (\"jacob\", \"m\"), (\"shayo\", \"f\"), (\"kunle\", \"m\")]\n",
    "\n",
    "saluted_names = map(lambda name: \"Mr. \"+ name[0].capitalize() if name[1] == \"m\" else \"Mrs. \"+ name[0].capitalize(), names)\n",
    "list(saluted_names)"
   ]
  },
  {
   "cell_type": "code",
   "execution_count": 56,
   "metadata": {},
   "outputs": [
    {
     "data": {
      "text/plain": [
       "['Mrs. Bolu', 'Mr. Jacob', 'Mrs. Shayo', 'Mr. Kunle']"
      ]
     },
     "execution_count": 56,
     "metadata": {},
     "output_type": "execute_result"
    }
   ],
   "source": [
    "def salute_fellow(name):\n",
    "    if name[1] == \"m\":\n",
    "        return \"Mr. \"+ name[0].capitalize()\n",
    "    elif name[1] == \"f\":\n",
    "        return \"Mrs. \"+ name[0].capitalize()\n",
    "    \n",
    "saluted_names = map(salute_fellow, names)\n",
    "list(saluted_names)"
   ]
  }
 ],
 "metadata": {
  "kernelspec": {
   "display_name": "Python 3",
   "language": "python",
   "name": "python3"
  },
  "language_info": {
   "codemirror_mode": {
    "name": "ipython",
    "version": 3
   },
   "file_extension": ".py",
   "mimetype": "text/x-python",
   "name": "python",
   "nbconvert_exporter": "python",
   "pygments_lexer": "ipython3",
   "version": "3.7.8"
  }
 },
 "nbformat": 4,
 "nbformat_minor": 4
}
