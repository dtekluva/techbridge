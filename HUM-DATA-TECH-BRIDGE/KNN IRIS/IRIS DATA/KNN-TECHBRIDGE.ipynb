{
 "cells": [
  {
   "cell_type": "code",
   "execution_count": 1,
   "metadata": {},
   "outputs": [],
   "source": [
    "import pandas as pd\n",
    "import numpy as np\n",
    "import seaborn as sns\n",
    "from matplotlib import pyplot as plt"
   ]
  },
  {
   "cell_type": "code",
   "execution_count": 2,
   "metadata": {},
   "outputs": [
    {
     "data": {
      "text/html": [
       "<div>\n",
       "<style scoped>\n",
       "    .dataframe tbody tr th:only-of-type {\n",
       "        vertical-align: middle;\n",
       "    }\n",
       "\n",
       "    .dataframe tbody tr th {\n",
       "        vertical-align: top;\n",
       "    }\n",
       "\n",
       "    .dataframe thead th {\n",
       "        text-align: right;\n",
       "    }\n",
       "</style>\n",
       "<table border=\"1\" class=\"dataframe\">\n",
       "  <thead>\n",
       "    <tr style=\"text-align: right;\">\n",
       "      <th></th>\n",
       "      <th>Id</th>\n",
       "      <th>SepalLengthCm</th>\n",
       "      <th>SepalWidthCm</th>\n",
       "      <th>PetalLengthCm</th>\n",
       "      <th>PetalWidthCm</th>\n",
       "      <th>Species</th>\n",
       "    </tr>\n",
       "  </thead>\n",
       "  <tbody>\n",
       "    <tr>\n",
       "      <th>0</th>\n",
       "      <td>1</td>\n",
       "      <td>5.1</td>\n",
       "      <td>3.5</td>\n",
       "      <td>1.4</td>\n",
       "      <td>0.2</td>\n",
       "      <td>Iris-setosa</td>\n",
       "    </tr>\n",
       "    <tr>\n",
       "      <th>1</th>\n",
       "      <td>2</td>\n",
       "      <td>4.9</td>\n",
       "      <td>3.0</td>\n",
       "      <td>1.4</td>\n",
       "      <td>0.2</td>\n",
       "      <td>Iris-setosa</td>\n",
       "    </tr>\n",
       "    <tr>\n",
       "      <th>2</th>\n",
       "      <td>3</td>\n",
       "      <td>4.7</td>\n",
       "      <td>3.2</td>\n",
       "      <td>1.3</td>\n",
       "      <td>0.2</td>\n",
       "      <td>Iris-setosa</td>\n",
       "    </tr>\n",
       "    <tr>\n",
       "      <th>3</th>\n",
       "      <td>4</td>\n",
       "      <td>4.6</td>\n",
       "      <td>3.1</td>\n",
       "      <td>1.5</td>\n",
       "      <td>0.2</td>\n",
       "      <td>Iris-setosa</td>\n",
       "    </tr>\n",
       "    <tr>\n",
       "      <th>4</th>\n",
       "      <td>5</td>\n",
       "      <td>5.0</td>\n",
       "      <td>3.6</td>\n",
       "      <td>1.4</td>\n",
       "      <td>0.2</td>\n",
       "      <td>Iris-setosa</td>\n",
       "    </tr>\n",
       "    <tr>\n",
       "      <th>...</th>\n",
       "      <td>...</td>\n",
       "      <td>...</td>\n",
       "      <td>...</td>\n",
       "      <td>...</td>\n",
       "      <td>...</td>\n",
       "      <td>...</td>\n",
       "    </tr>\n",
       "    <tr>\n",
       "      <th>143</th>\n",
       "      <td>146</td>\n",
       "      <td>6.7</td>\n",
       "      <td>3.0</td>\n",
       "      <td>5.2</td>\n",
       "      <td>2.3</td>\n",
       "      <td>Iris-virginica</td>\n",
       "    </tr>\n",
       "    <tr>\n",
       "      <th>144</th>\n",
       "      <td>147</td>\n",
       "      <td>6.3</td>\n",
       "      <td>2.5</td>\n",
       "      <td>5.0</td>\n",
       "      <td>1.9</td>\n",
       "      <td>Iris-virginica</td>\n",
       "    </tr>\n",
       "    <tr>\n",
       "      <th>145</th>\n",
       "      <td>148</td>\n",
       "      <td>6.5</td>\n",
       "      <td>3.0</td>\n",
       "      <td>5.2</td>\n",
       "      <td>2.0</td>\n",
       "      <td>Iris-virginica</td>\n",
       "    </tr>\n",
       "    <tr>\n",
       "      <th>146</th>\n",
       "      <td>149</td>\n",
       "      <td>6.2</td>\n",
       "      <td>3.4</td>\n",
       "      <td>5.4</td>\n",
       "      <td>2.3</td>\n",
       "      <td>Iris-virginica</td>\n",
       "    </tr>\n",
       "    <tr>\n",
       "      <th>147</th>\n",
       "      <td>150</td>\n",
       "      <td>5.9</td>\n",
       "      <td>3.0</td>\n",
       "      <td>5.1</td>\n",
       "      <td>1.8</td>\n",
       "      <td>Iris-virginica</td>\n",
       "    </tr>\n",
       "  </tbody>\n",
       "</table>\n",
       "<p>148 rows × 6 columns</p>\n",
       "</div>"
      ],
      "text/plain": [
       "      Id  SepalLengthCm  SepalWidthCm  PetalLengthCm  PetalWidthCm  \\\n",
       "0      1            5.1           3.5            1.4           0.2   \n",
       "1      2            4.9           3.0            1.4           0.2   \n",
       "2      3            4.7           3.2            1.3           0.2   \n",
       "3      4            4.6           3.1            1.5           0.2   \n",
       "4      5            5.0           3.6            1.4           0.2   \n",
       "..   ...            ...           ...            ...           ...   \n",
       "143  146            6.7           3.0            5.2           2.3   \n",
       "144  147            6.3           2.5            5.0           1.9   \n",
       "145  148            6.5           3.0            5.2           2.0   \n",
       "146  149            6.2           3.4            5.4           2.3   \n",
       "147  150            5.9           3.0            5.1           1.8   \n",
       "\n",
       "            Species  \n",
       "0       Iris-setosa  \n",
       "1       Iris-setosa  \n",
       "2       Iris-setosa  \n",
       "3       Iris-setosa  \n",
       "4       Iris-setosa  \n",
       "..              ...  \n",
       "143  Iris-virginica  \n",
       "144  Iris-virginica  \n",
       "145  Iris-virginica  \n",
       "146  Iris-virginica  \n",
       "147  Iris-virginica  \n",
       "\n",
       "[148 rows x 6 columns]"
      ]
     },
     "execution_count": 2,
     "metadata": {},
     "output_type": "execute_result"
    }
   ],
   "source": [
    "data = pd.read_csv(\"Iris.csv\")\n",
    "data"
   ]
  },
  {
   "cell_type": "code",
   "execution_count": 3,
   "metadata": {},
   "outputs": [],
   "source": [
    "# sns.pairplot(data = data, hue = \"Species\")\n",
    "# plt.show()"
   ]
  },
  {
   "cell_type": "markdown",
   "metadata": {},
   "source": [
    "# UNDERSTANDING KNN ON A PSEUDO DATASET"
   ]
  },
  {
   "cell_type": "code",
   "execution_count": 4,
   "metadata": {},
   "outputs": [],
   "source": [
    "x = [26,11, 15, 15, 30, 30, 20, 7, 10,21, 30, 15, 3, 5, 20, 7]\n",
    "y = [26,11, 30, 5, 3, 16, 20, 7, 20,11, 30, 15, 3, 30, 20, 7]\n",
    "names = [\"a\", \"b\", \"c\", \"d\", \"e\", \"f\", \"g\", \"h\", \"i\", \"j\", \"k\", \"l\", \"m\", \"n\", \"o\", \"p\"]\n",
    "\n",
    "p = [26, 15]\n",
    "q = [26, 20]\n",
    "\n",
    "# REFERENCE POINTS M & N\n",
    "m = [25]\n",
    "n = [25]"
   ]
  },
  {
   "cell_type": "code",
   "execution_count": 5,
   "metadata": {},
   "outputs": [
    {
     "data": {
      "text/plain": [
       "<matplotlib.collections.PathCollection at 0x217acef1ec8>"
      ]
     },
     "execution_count": 5,
     "metadata": {},
     "output_type": "execute_result"
    },
    {
     "data": {
      "image/png": "[encoded data removed]",
      "text/plain": [
       "<Figure size 640x640 with 1 Axes>"
      ]
     },
     "metadata": {},
     "output_type": "display_data"
    }
   ],
   "source": [
    "from matplotlib.pyplot import figure\n",
    "figure(num=None, figsize=(8, 8), dpi=80, facecolor='w', edgecolor='k')\n",
    "plt.scatter(x, y)\n",
    "plt.plot(p, q, color = \"red\")\n",
    "plt.scatter(m, n, color = \"green\", s = 50)\n",
    "plt.scatter(20, 20, color = \"red\", s = 50)"
   ]
  },
  {
   "cell_type": "code",
   "execution_count": 6,
   "metadata": {},
   "outputs": [],
   "source": [
    "p = [15, 30]\n",
    "q = [20, 30]\n",
    "\n",
    "# C2 = A2 + B2\n",
    "\n",
    "# a = q[1] - q[0]\n",
    "# b = p[1] - p[0]\n",
    "\n",
    "# print(a, b)\n",
    "# p_q_dist = (a**2 + b**2) ** 0.5\n",
    "# print(p_q_dist)"
   ]
  },
  {
   "cell_type": "code",
   "execution_count": 7,
   "metadata": {},
   "outputs": [
    {
     "name": "stdout",
     "output_type": "stream",
     "text": [
      "[[26, 26, 'a', 1.4142135623730951], [11, 11, 'b', 19.79898987322333], [15, 30, 'c', 11.180339887498949], [15, 5, 'd', 22.360679774997898], [30, 3, 'e', 22.561028345356956], [30, 16, 'f', 10.295630140987], [20, 20, 'g', 7.0710678118654755], [7, 7, 'h', 25.45584412271571], [10, 20, 'i', 15.811388300841896], [21, 11, 'j', 14.560219778561036], [30, 30, 'k', 7.0710678118654755], [15, 15, 'l', 14.142135623730951], [3, 3, 'm', 31.11269837220809], [5, 30, 'n', 20.615528128088304], [20, 20, 'o', 7.0710678118654755], [7, 7, 'p', 25.45584412271571]]\n"
     ]
    }
   ],
   "source": [
    "result_list = []\n",
    "\n",
    "for point in zip(x,y, names):\n",
    "    pseudo_m = m.copy()\n",
    "    pseudo_n = n.copy()\n",
    "    \n",
    "    pseudo_m.append(point[0])\n",
    "    pseudo_n.append(point[1])\n",
    "    \n",
    "#     print(pseudo_m, pseudo_n)\n",
    "\n",
    "    a = abs(pseudo_m[1] - pseudo_m[0])\n",
    "    b = abs(pseudo_n[1] - pseudo_n[0])\n",
    "\n",
    "    p_q_dist = (a**2 + b**2) ** 0.5\n",
    "    point = list(point)\n",
    "    point.append(p_q_dist)\n",
    "    result_list.append(point)\n",
    "#     print( point, \"--> \", p_q_dist)\n",
    "\n",
    "print(result_list)"
   ]
  },
  {
   "cell_type": "code",
   "execution_count": 8,
   "metadata": {},
   "outputs": [],
   "source": [
    "result_list.sort(key = lambda x: x[3])"
   ]
  },
  {
   "cell_type": "code",
   "execution_count": 9,
   "metadata": {},
   "outputs": [],
   "source": [
    "closest_distance = result_list[0][2]"
   ]
  },
  {
   "cell_type": "code",
   "execution_count": 10,
   "metadata": {},
   "outputs": [
    {
     "data": {
      "text/plain": [
       "'a'"
      ]
     },
     "execution_count": 10,
     "metadata": {},
     "output_type": "execute_result"
    }
   ],
   "source": [
    "closest_distance"
   ]
  },
  {
   "cell_type": "code",
   "execution_count": 11,
   "metadata": {},
   "outputs": [],
   "source": [
    "def sort_key(x):\n",
    "    return x[3]\n",
    "    \n",
    "result_list.sort(key = sort_key)"
   ]
  },
  {
   "cell_type": "markdown",
   "metadata": {},
   "source": [
    "# KNN FROM SCRATCH ON IRIS DATA SET"
   ]
  },
  {
   "cell_type": "code",
   "execution_count": 12,
   "metadata": {},
   "outputs": [],
   "source": [
    "select_columns = data[[\"PetalLengthCm\", \"PetalWidthCm\", \"Species\"]]\n",
    "list_format_data = select_columns.values"
   ]
  },
  {
   "cell_type": "code",
   "execution_count": 13,
   "metadata": {},
   "outputs": [],
   "source": [
    "# TEST POINTS M & N\n",
    "m = [3]\n",
    "n = [4]"
   ]
  },
  {
   "cell_type": "code",
   "execution_count": 61,
   "metadata": {},
   "outputs": [
    {
     "name": "stdout",
     "output_type": "stream",
     "text": [
      "('Iris-virginica', 5)\n"
     ]
    }
   ],
   "source": [
    "def get_most_occuring(items, target_index):\n",
    "#     print(items)\n",
    "    values = dict()\n",
    "    target_index = 2\n",
    "\n",
    "\n",
    "    for item in items:\n",
    "        \n",
    "        if item[target_index] in values.keys():\n",
    "            values[item[target_index]] += 1\n",
    "        else:\n",
    "            values[item[target_index]] = 1\n",
    "\n",
    "    result_list = list(values.items())\n",
    "    result_list.sort(key = lambda value: value[1], reverse = True)\n",
    "    result = result_list[0]\n",
    "#     print(result)\n",
    "    return result\n",
    "\n",
    "def knn_predictor(data, m = 0, n = 0, k = 5):\n",
    "    result_list = []\n",
    "    m = [m]\n",
    "    n = [n]\n",
    "\n",
    "    for point in data:\n",
    "        pseudo_m = m.copy()\n",
    "        pseudo_n = n.copy()\n",
    "\n",
    "        pseudo_m.append(point[0])\n",
    "        pseudo_n.append(point[1])\n",
    "\n",
    "    #     print(pseudo_m, pseudo_n)\n",
    "\n",
    "        a = abs(pseudo_m[1] - pseudo_m[0])\n",
    "        b = abs(pseudo_n[1] - pseudo_n[0])\n",
    "\n",
    "        p_q_dist = (a**2 + b**2) ** 0.5\n",
    "        point = list(point)\n",
    "        point.append(p_q_dist)\n",
    "        result_list.append(point)\n",
    "    #     print( point, \"--> \", p_q_dist)\n",
    "\n",
    "    # print(result_list)\n",
    "    \n",
    "    result_list.sort(key = lambda x: x[3])\n",
    "    closest_distance = result_list[0:k]\n",
    "\n",
    "    return get_most_occuring(closest_distance, 2)\n",
    "    \n",
    "prediction = knn_predictor(list_format_data, m = 10, n = 2)\n",
    "print(prediction)"
   ]
  },
  {
   "cell_type": "code",
   "execution_count": 56,
   "metadata": {},
   "outputs": [],
   "source": []
  },
  {
   "cell_type": "code",
   "execution_count": null,
   "metadata": {},
   "outputs": [],
   "source": []
  },
  {
   "cell_type": "code",
   "execution_count": 5,
   "metadata": {},
   "outputs": [
    {
     "name": "stdout",
     "output_type": "stream",
     "text": [
      "SepalLengthCm SepalWidthCm\n",
      "SepalLengthCm PetalLengthCm\n",
      "SepalLengthCm PetalWidthCm\n",
      "SepalWidthCm SepalLengthCm\n",
      "SepalWidthCm PetalLengthCm\n",
      "SepalWidthCm PetalWidthCm\n",
      "PetalLengthCm SepalLengthCm\n",
      "PetalLengthCm SepalWidthCm\n",
      "PetalLengthCm PetalWidthCm\n",
      "PetalWidthCm SepalLengthCm\n",
      "PetalWidthCm SepalWidthCm\n",
      "PetalWidthCm PetalLengthCm\n",
      "[{'correct': 30, 'wrong': 0, 'accuracy': 100.0}, ['PetalLengthCm', 'PetalWidthCm']]\n",
      "PetalLengthCm PetalWidthCm\n",
      "PLOTTING\n"
     ]
    },
    {
     "data": {
      "image/png": "[encoded data removed]",
      "text/plain": [
       "<Figure size 432x288 with 1 Axes>"
      ]
     },
     "metadata": {
      "needs_background": "light"
     },
     "output_type": "display_data"
    },
    {
     "data": {
      "text/plain": [
       "99"
      ]
     },
     "execution_count": 5,
     "metadata": {},
     "output_type": "execute_result"
    }
   ],
   "source": [
    "class KNN_BOY:\n",
    "    \n",
    "    def __init__(self, data, label = False, exemptions = []):\n",
    "        \n",
    "        if not label or not isinstance(label, str):\n",
    "            raise ValueError(\"Dataset Label must be provided, and must be string.\")\n",
    "            \n",
    "        self.label = label\n",
    "        self.data = data\n",
    "        self.k = int(data.shape[0] * 0.05) # 5 PERCENT OF DATASET LENGTH AS ORIGINAL K VALUE\n",
    "        self.best_feature_combo = False\n",
    "        self.exemptions = exemptions + [self.label]\n",
    "        \n",
    "    def get_most_occuring(self, items, target_index):\n",
    "        values = dict()\n",
    "        target_index = 2\n",
    "\n",
    "        for item in items:\n",
    "\n",
    "            if item[target_index] in values.keys():\n",
    "                values[item[target_index]] += 1\n",
    "            else:\n",
    "                values[item[target_index]] = 1\n",
    "\n",
    "        result_list = list(values.items())\n",
    "        result_list.sort(key = lambda value: value[1], reverse = True)\n",
    "        result = result_list[0]\n",
    "        return result\n",
    "\n",
    "    def knn_predictor(self, data, m = 0, n = 0, k = False):\n",
    "        \n",
    "        if k == False:\n",
    "            k = self.k\n",
    "        else:\n",
    "            k = k\n",
    "            \n",
    "        result_list = []\n",
    "        m = [m]\n",
    "        n = [n]\n",
    "\n",
    "        for point in data:\n",
    "            pseudo_m = m.copy()\n",
    "            pseudo_n = n.copy()\n",
    "\n",
    "            pseudo_m.append(point[0])\n",
    "            pseudo_n.append(point[1])\n",
    "\n",
    "            a = abs(pseudo_m[1] - pseudo_m[0])\n",
    "            b = abs(pseudo_n[1] - pseudo_n[0])\n",
    "\n",
    "            p_q_dist = (a**2 + b**2) ** 0.5\n",
    "            point = list(point)\n",
    "            point.append(p_q_dist)\n",
    "            result_list.append(point)\n",
    "\n",
    "        result_list.sort(key = lambda x: x[3])\n",
    "        closest_distance = result_list[0:k]\n",
    "\n",
    "        return self.get_most_occuring(closest_distance, 2)\n",
    "    \n",
    "    def get_best_feature_combo(self):\n",
    "        \n",
    "        if self.best_feature_combo:\n",
    "            return self.best_feature_combo\n",
    "        \n",
    "        feature_combo_accuracies = []\n",
    "\n",
    "        for x_axis in self.data.columns:\n",
    "\n",
    "            if x_axis in self.exemptions:\n",
    "                continue\n",
    "\n",
    "            for y_axis in data.columns:\n",
    "                \n",
    "                if x_axis == y_axis:\n",
    "                    continue\n",
    "\n",
    "                if y_axis in self.exemptions:\n",
    "                    continue\n",
    "                \n",
    "                print(x_axis, y_axis)\n",
    "\n",
    "                data_selection = self.data[[x_axis, y_axis, self.label]].values\n",
    "                test_values = self.data.iloc[0:30][[x_axis, y_axis, self.label]].values\n",
    "                test_values = list(test_values )\n",
    "\n",
    "\n",
    "                predictions = []\n",
    "                accuracy = {\"correct\":0, \"wrong\":0, \"accuracy\": 0}\n",
    "\n",
    "\n",
    "                for datapoint in test_values:\n",
    "                    prediction = self.knn_predictor(data = data_selection, m = datapoint[0], n = datapoint[1], k = self.k)\n",
    "                    actual = datapoint[2]\n",
    "\n",
    "\n",
    "                    if actual == prediction[0]:\n",
    "                        accuracy[\"correct\"] += 1\n",
    "                    elif actual != prediction[0]:\n",
    "                        accuracy[\"wrong\"] += 1\n",
    "\n",
    "                accuracy[\"accuracy\"] = (accuracy[\"correct\"]/len(test_values))*100\n",
    "                feature_combo_accuracies.append([accuracy, [y_axis, x_axis]])\n",
    "                \n",
    "        feature_combo_accuracies.sort(key = lambda accuracy: accuracy[0][\"accuracy\"])\n",
    "        best_feature_combo = feature_combo_accuracies[-1]\n",
    "\n",
    "        self.best_feature_combo = best_feature_combo\n",
    "\n",
    "        return self.best_feature_combo\n",
    "    \n",
    "    def plot_k_tuning(self, tuning_data):\n",
    "            \n",
    "        print(\"PLOTTING\")\n",
    "\n",
    "        predictions = np.array(tuning_data)\n",
    "        plt.plot(predictions[:,0], predictions[:,1], label = \"Accuracy\")\n",
    "        plt.xlabel(\"K-Neighbors\")\n",
    "        plt.ylabel(\"Accuracy Value\")\n",
    "        plt.title(\"Accuracy Progression Plot\")\n",
    "        plt.legend()\n",
    "        plt.show()\n",
    "    \n",
    "    def optimize_k(self):\n",
    "        \n",
    "        predictions = []\n",
    "\n",
    "        data_selection = self.data[[self.best_feature_combo[1][0], self.best_feature_combo[1][1], self.label]].values\n",
    "        test_values = self.data.iloc[0:30][[self.best_feature_combo[1][0], self.best_feature_combo[1][0], self.label]].values\n",
    "        test_values = list(test_values )\n",
    "        print(self.best_feature_combo[1][0], self.best_feature_combo[1][1])\n",
    "\n",
    "        for k in range(2, 100):\n",
    "            accuracy = {\"correct\":0, \"wrong\":0, \"accuracy\": 0}\n",
    "\n",
    "            for datapoint in test_values:\n",
    "                prediction = self.knn_predictor(data = data_selection, m = datapoint[0], n = datapoint[1], k = self.k)\n",
    "                actual = datapoint[2]\n",
    "\n",
    "                if actual == prediction[0]:\n",
    "                    accuracy[\"correct\"] += 1\n",
    "                elif actual != prediction[0]:\n",
    "                    accuracy[\"wrong\"] += 1\n",
    "\n",
    "            accuracy[\"accuracy\"] = (accuracy[\"correct\"]/len(test_values))*100\n",
    "            predictions.append([k, accuracy[\"accuracy\"]])\n",
    "#             print(accuracy)\n",
    "            \n",
    "        predictions.sort(key = lambda accuracy: accuracy[1])\n",
    "        best_k_value = predictions[-1]\n",
    "        self.k = best_k_value[0]\n",
    "#         print(predictions)\n",
    "\n",
    "        self.plot_k_tuning(predictions)\n",
    "\n",
    "        return self.k\n",
    "\n",
    "\n",
    "new_knn_predictor = KNN_BOY(data , label= \"Species\", exemptions = [\"Id\"])\n",
    "\n",
    "print(new_knn_predictor.get_best_feature_combo())\n",
    "new_knn_predictor.optimize_k()"
   ]
  }
 ],
 "metadata": {
  "kernelspec": {
   "display_name": "Python 3",
   "language": "python",
   "name": "python3"
  },
  "language_info": {
   "codemirror_mode": {
    "name": "ipython",
    "version": 3
   },
   "file_extension": ".py",
   "mimetype": "text/x-python",
   "name": "python",
   "nbconvert_exporter": "python",
   "pygments_lexer": "ipython3",
   "version": "3.7.8"
  }
 },
 "nbformat": 4,
 "nbformat_minor": 4
}
