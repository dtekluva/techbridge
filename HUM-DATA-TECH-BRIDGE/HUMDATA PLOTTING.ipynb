{
 "cells": [
  {
   "cell_type": "markdown",
   "metadata": {},
   "source": [
    "### HUM-DATA-COVID-19-DATASET\n",
    "\n",
    "- FILTER SPECIFIC COUNTRY CASES\n",
    "- FILTER SPECIFIC COUNTRY DEATHS\n",
    "- FILTER SPECIFIC COUNTRY RECOVERIES\n",
    "<HR>\n",
    "- PLOT CASES DEATHS AND RECOVERIES FOR ONE COUNTRY\n",
    "- PLOT CASES FOR MULTIPLE COUNTRIES\n",
    "<HR>\n",
    "- RUN REGRESSION FOR PREDICTION IN COUNTRIES."
   ]
  },
  {
   "cell_type": "code",
   "execution_count": 1,
   "metadata": {},
   "outputs": [],
   "source": [
    "import pandas as pd\n",
    "from matplotlib import pyplot as plt\n",
    "import numpy as np\n",
    "import seaborn as sns\n",
    "\n",
    "plt.style.use(\"ggplot\")"
   ]
  },
  {
   "cell_type": "code",
   "execution_count": 2,
   "metadata": {},
   "outputs": [],
   "source": [
    "# LOAD THE 3 CSV INTO PANDAS DATAFRAMES"
   ]
  },
  {
   "cell_type": "code",
   "execution_count": 3,
   "metadata": {},
   "outputs": [
    {
     "ename": "FileNotFoundError",
     "evalue": "[Errno 2] File time_series_covid19_confirmed_global.csv does not exist: 'time_series_covid19_confirmed_global.csv'",
     "output_type": "error",
     "traceback": [
      "\u001b[1;31m---------------------------------------------------------------------------\u001b[0m",
      "\u001b[1;31mFileNotFoundError\u001b[0m                         Traceback (most recent call last)",
      "\u001b[1;32m<ipython-input-3-afaa13dabd80>\u001b[0m in \u001b[0;36m<module>\u001b[1;34m\u001b[0m\n\u001b[1;32m----> 1\u001b[1;33m \u001b[0mcases\u001b[0m \u001b[1;33m=\u001b[0m \u001b[0mpd\u001b[0m\u001b[1;33m.\u001b[0m\u001b[0mread_csv\u001b[0m\u001b[1;33m(\u001b[0m\u001b[1;34m\"time_series_covid19_confirmed_global.csv\"\u001b[0m\u001b[1;33m)\u001b[0m\u001b[1;33m\u001b[0m\u001b[1;33m\u001b[0m\u001b[0m\n\u001b[0m\u001b[0;32m      2\u001b[0m \u001b[0mdeaths\u001b[0m \u001b[1;33m=\u001b[0m \u001b[0mpd\u001b[0m\u001b[1;33m.\u001b[0m\u001b[0mread_csv\u001b[0m\u001b[1;33m(\u001b[0m\u001b[1;34m\"time_series_covid19_deaths_global.csv\"\u001b[0m\u001b[1;33m)\u001b[0m\u001b[1;33m\u001b[0m\u001b[1;33m\u001b[0m\u001b[0m\n\u001b[0;32m      3\u001b[0m \u001b[0mrecoveries\u001b[0m \u001b[1;33m=\u001b[0m \u001b[0mpd\u001b[0m\u001b[1;33m.\u001b[0m\u001b[0mread_csv\u001b[0m\u001b[1;33m(\u001b[0m\u001b[1;34m\"time_series_covid19_recovered_global.csv\"\u001b[0m\u001b[1;33m)\u001b[0m\u001b[1;33m\u001b[0m\u001b[1;33m\u001b[0m\u001b[0m\n",
      "\u001b[1;32mc:\\users\\kboys\\appdata\\local\\programs\\python\\python37\\lib\\site-packages\\pandas\\io\\parsers.py\u001b[0m in \u001b[0;36mparser_f\u001b[1;34m(filepath_or_buffer, sep, delimiter, header, names, index_col, usecols, squeeze, prefix, mangle_dupe_cols, dtype, engine, converters, true_values, false_values, skipinitialspace, skiprows, skipfooter, nrows, na_values, keep_default_na, na_filter, verbose, skip_blank_lines, parse_dates, infer_datetime_format, keep_date_col, date_parser, dayfirst, cache_dates, iterator, chunksize, compression, thousands, decimal, lineterminator, quotechar, quoting, doublequote, escapechar, comment, encoding, dialect, error_bad_lines, warn_bad_lines, delim_whitespace, low_memory, memory_map, float_precision)\u001b[0m\n\u001b[0;32m    674\u001b[0m         )\n\u001b[0;32m    675\u001b[0m \u001b[1;33m\u001b[0m\u001b[0m\n\u001b[1;32m--> 676\u001b[1;33m         \u001b[1;32mreturn\u001b[0m \u001b[0m_read\u001b[0m\u001b[1;33m(\u001b[0m\u001b[0mfilepath_or_buffer\u001b[0m\u001b[1;33m,\u001b[0m \u001b[0mkwds\u001b[0m\u001b[1;33m)\u001b[0m\u001b[1;33m\u001b[0m\u001b[1;33m\u001b[0m\u001b[0m\n\u001b[0m\u001b[0;32m    677\u001b[0m \u001b[1;33m\u001b[0m\u001b[0m\n\u001b[0;32m    678\u001b[0m     \u001b[0mparser_f\u001b[0m\u001b[1;33m.\u001b[0m\u001b[0m__name__\u001b[0m \u001b[1;33m=\u001b[0m \u001b[0mname\u001b[0m\u001b[1;33m\u001b[0m\u001b[1;33m\u001b[0m\u001b[0m\n",
      "\u001b[1;32mc:\\users\\kboys\\appdata\\local\\programs\\python\\python37\\lib\\site-packages\\pandas\\io\\parsers.py\u001b[0m in \u001b[0;36m_read\u001b[1;34m(filepath_or_buffer, kwds)\u001b[0m\n\u001b[0;32m    446\u001b[0m \u001b[1;33m\u001b[0m\u001b[0m\n\u001b[0;32m    447\u001b[0m     \u001b[1;31m# Create the parser.\u001b[0m\u001b[1;33m\u001b[0m\u001b[1;33m\u001b[0m\u001b[1;33m\u001b[0m\u001b[0m\n\u001b[1;32m--> 448\u001b[1;33m     \u001b[0mparser\u001b[0m \u001b[1;33m=\u001b[0m \u001b[0mTextFileReader\u001b[0m\u001b[1;33m(\u001b[0m\u001b[0mfp_or_buf\u001b[0m\u001b[1;33m,\u001b[0m \u001b[1;33m**\u001b[0m\u001b[0mkwds\u001b[0m\u001b[1;33m)\u001b[0m\u001b[1;33m\u001b[0m\u001b[1;33m\u001b[0m\u001b[0m\n\u001b[0m\u001b[0;32m    449\u001b[0m \u001b[1;33m\u001b[0m\u001b[0m\n\u001b[0;32m    450\u001b[0m     \u001b[1;32mif\u001b[0m \u001b[0mchunksize\u001b[0m \u001b[1;32mor\u001b[0m \u001b[0miterator\u001b[0m\u001b[1;33m:\u001b[0m\u001b[1;33m\u001b[0m\u001b[1;33m\u001b[0m\u001b[0m\n",
      "\u001b[1;32mc:\\users\\kboys\\appdata\\local\\programs\\python\\python37\\lib\\site-packages\\pandas\\io\\parsers.py\u001b[0m in \u001b[0;36m__init__\u001b[1;34m(self, f, engine, **kwds)\u001b[0m\n\u001b[0;32m    878\u001b[0m             \u001b[0mself\u001b[0m\u001b[1;33m.\u001b[0m\u001b[0moptions\u001b[0m\u001b[1;33m[\u001b[0m\u001b[1;34m\"has_index_names\"\u001b[0m\u001b[1;33m]\u001b[0m \u001b[1;33m=\u001b[0m \u001b[0mkwds\u001b[0m\u001b[1;33m[\u001b[0m\u001b[1;34m\"has_index_names\"\u001b[0m\u001b[1;33m]\u001b[0m\u001b[1;33m\u001b[0m\u001b[1;33m\u001b[0m\u001b[0m\n\u001b[0;32m    879\u001b[0m \u001b[1;33m\u001b[0m\u001b[0m\n\u001b[1;32m--> 880\u001b[1;33m         \u001b[0mself\u001b[0m\u001b[1;33m.\u001b[0m\u001b[0m_make_engine\u001b[0m\u001b[1;33m(\u001b[0m\u001b[0mself\u001b[0m\u001b[1;33m.\u001b[0m\u001b[0mengine\u001b[0m\u001b[1;33m)\u001b[0m\u001b[1;33m\u001b[0m\u001b[1;33m\u001b[0m\u001b[0m\n\u001b[0m\u001b[0;32m    881\u001b[0m \u001b[1;33m\u001b[0m\u001b[0m\n\u001b[0;32m    882\u001b[0m     \u001b[1;32mdef\u001b[0m \u001b[0mclose\u001b[0m\u001b[1;33m(\u001b[0m\u001b[0mself\u001b[0m\u001b[1;33m)\u001b[0m\u001b[1;33m:\u001b[0m\u001b[1;33m\u001b[0m\u001b[1;33m\u001b[0m\u001b[0m\n",
      "\u001b[1;32mc:\\users\\kboys\\appdata\\local\\programs\\python\\python37\\lib\\site-packages\\pandas\\io\\parsers.py\u001b[0m in \u001b[0;36m_make_engine\u001b[1;34m(self, engine)\u001b[0m\n\u001b[0;32m   1112\u001b[0m     \u001b[1;32mdef\u001b[0m \u001b[0m_make_engine\u001b[0m\u001b[1;33m(\u001b[0m\u001b[0mself\u001b[0m\u001b[1;33m,\u001b[0m \u001b[0mengine\u001b[0m\u001b[1;33m=\u001b[0m\u001b[1;34m\"c\"\u001b[0m\u001b[1;33m)\u001b[0m\u001b[1;33m:\u001b[0m\u001b[1;33m\u001b[0m\u001b[1;33m\u001b[0m\u001b[0m\n\u001b[0;32m   1113\u001b[0m         \u001b[1;32mif\u001b[0m \u001b[0mengine\u001b[0m \u001b[1;33m==\u001b[0m \u001b[1;34m\"c\"\u001b[0m\u001b[1;33m:\u001b[0m\u001b[1;33m\u001b[0m\u001b[1;33m\u001b[0m\u001b[0m\n\u001b[1;32m-> 1114\u001b[1;33m             \u001b[0mself\u001b[0m\u001b[1;33m.\u001b[0m\u001b[0m_engine\u001b[0m \u001b[1;33m=\u001b[0m \u001b[0mCParserWrapper\u001b[0m\u001b[1;33m(\u001b[0m\u001b[0mself\u001b[0m\u001b[1;33m.\u001b[0m\u001b[0mf\u001b[0m\u001b[1;33m,\u001b[0m \u001b[1;33m**\u001b[0m\u001b[0mself\u001b[0m\u001b[1;33m.\u001b[0m\u001b[0moptions\u001b[0m\u001b[1;33m)\u001b[0m\u001b[1;33m\u001b[0m\u001b[1;33m\u001b[0m\u001b[0m\n\u001b[0m\u001b[0;32m   1115\u001b[0m         \u001b[1;32melse\u001b[0m\u001b[1;33m:\u001b[0m\u001b[1;33m\u001b[0m\u001b[1;33m\u001b[0m\u001b[0m\n\u001b[0;32m   1116\u001b[0m             \u001b[1;32mif\u001b[0m \u001b[0mengine\u001b[0m \u001b[1;33m==\u001b[0m \u001b[1;34m\"python\"\u001b[0m\u001b[1;33m:\u001b[0m\u001b[1;33m\u001b[0m\u001b[1;33m\u001b[0m\u001b[0m\n",
      "\u001b[1;32mc:\\users\\kboys\\appdata\\local\\programs\\python\\python37\\lib\\site-packages\\pandas\\io\\parsers.py\u001b[0m in \u001b[0;36m__init__\u001b[1;34m(self, src, **kwds)\u001b[0m\n\u001b[0;32m   1889\u001b[0m         \u001b[0mkwds\u001b[0m\u001b[1;33m[\u001b[0m\u001b[1;34m\"usecols\"\u001b[0m\u001b[1;33m]\u001b[0m \u001b[1;33m=\u001b[0m \u001b[0mself\u001b[0m\u001b[1;33m.\u001b[0m\u001b[0musecols\u001b[0m\u001b[1;33m\u001b[0m\u001b[1;33m\u001b[0m\u001b[0m\n\u001b[0;32m   1890\u001b[0m \u001b[1;33m\u001b[0m\u001b[0m\n\u001b[1;32m-> 1891\u001b[1;33m         \u001b[0mself\u001b[0m\u001b[1;33m.\u001b[0m\u001b[0m_reader\u001b[0m \u001b[1;33m=\u001b[0m \u001b[0mparsers\u001b[0m\u001b[1;33m.\u001b[0m\u001b[0mTextReader\u001b[0m\u001b[1;33m(\u001b[0m\u001b[0msrc\u001b[0m\u001b[1;33m,\u001b[0m \u001b[1;33m**\u001b[0m\u001b[0mkwds\u001b[0m\u001b[1;33m)\u001b[0m\u001b[1;33m\u001b[0m\u001b[1;33m\u001b[0m\u001b[0m\n\u001b[0m\u001b[0;32m   1892\u001b[0m         \u001b[0mself\u001b[0m\u001b[1;33m.\u001b[0m\u001b[0munnamed_cols\u001b[0m \u001b[1;33m=\u001b[0m \u001b[0mself\u001b[0m\u001b[1;33m.\u001b[0m\u001b[0m_reader\u001b[0m\u001b[1;33m.\u001b[0m\u001b[0munnamed_cols\u001b[0m\u001b[1;33m\u001b[0m\u001b[1;33m\u001b[0m\u001b[0m\n\u001b[0;32m   1893\u001b[0m \u001b[1;33m\u001b[0m\u001b[0m\n",
      "\u001b[1;32mpandas\\_libs\\parsers.pyx\u001b[0m in \u001b[0;36mpandas._libs.parsers.TextReader.__cinit__\u001b[1;34m()\u001b[0m\n",
      "\u001b[1;32mpandas\\_libs\\parsers.pyx\u001b[0m in \u001b[0;36mpandas._libs.parsers.TextReader._setup_parser_source\u001b[1;34m()\u001b[0m\n",
      "\u001b[1;31mFileNotFoundError\u001b[0m: [Errno 2] File time_series_covid19_confirmed_global.csv does not exist: 'time_series_covid19_confirmed_global.csv'"
     ]
    }
   ],
   "source": [
    "cases = pd.read_csv(\"time_series_covid19_confirmed_global.csv\")\n",
    "deaths = pd.read_csv(\"time_series_covid19_deaths_global.csv\")\n",
    "recoveries = pd.read_csv(\"time_series_covid19_recovered_global.csv\")"
   ]
  },
  {
   "cell_type": "code",
   "execution_count": null,
   "metadata": {},
   "outputs": [],
   "source": [
    "cases.head()"
   ]
  },
  {
   "cell_type": "code",
   "execution_count": null,
   "metadata": {},
   "outputs": [],
   "source": [
    "# FILTER SPECIFIC COUNTRIES"
   ]
  },
  {
   "cell_type": "code",
   "execution_count": null,
   "metadata": {},
   "outputs": [],
   "source": [
    "target_country_cases = cases[cases[\"Country/Region\"] == \"Nigeria\"]\n",
    "target_country_cases"
   ]
  },
  {
   "cell_type": "code",
   "execution_count": null,
   "metadata": {},
   "outputs": [],
   "source": [
    "cases_dates = cases.columns[4:] # SLICE OFF NON-DATE COLUMN NAMES\n",
    "cases_values = target_country_cases.iloc[0][4:]"
   ]
  },
  {
   "cell_type": "code",
   "execution_count": null,
   "metadata": {},
   "outputs": [],
   "source": [
    "plt.plot(cases_dates, cases_values)\n",
    "plt.show()"
   ]
  },
  {
   "cell_type": "code",
   "execution_count": null,
   "metadata": {},
   "outputs": [],
   "source": [
    "target_country_deaths = deaths[deaths[\"Country/Region\"] == \"Ghana\"]\n",
    "target_country_deaths"
   ]
  },
  {
   "cell_type": "code",
   "execution_count": null,
   "metadata": {},
   "outputs": [],
   "source": [
    "deaths_dates = deaths.columns[4:] # SLICE OFF NON-DATE COLUMN NAMES\n",
    "deaths_values = target_country_deaths.iloc[0][4:]\n",
    "target_country_deaths"
   ]
  },
  {
   "cell_type": "code",
   "execution_count": null,
   "metadata": {},
   "outputs": [],
   "source": [
    "plt.plot(deaths_dates, deaths_values)\n",
    "plt.show()"
   ]
  },
  {
   "cell_type": "code",
   "execution_count": null,
   "metadata": {},
   "outputs": [],
   "source": [
    "target_country_recoveries = recoveries[recoveries[\"Country/Region\"] == \"Ghana\"]\n",
    "recoveries_dates = target_country_recoveries.columns[4:] # SLICE OFF NON-DATE COLUMN NAMES\n",
    "recoveries_values = target_country_recoveries.iloc[0][4:]\n",
    "\n",
    "plt.plot(recoveries_dates, recoveries_values)\n",
    "plt.show()"
   ]
  },
  {
   "cell_type": "code",
   "execution_count": null,
   "metadata": {},
   "outputs": [],
   "source": [
    "plt.figure(num=None, figsize=(20, 10), dpi=80, facecolor='w', edgecolor='k')\n",
    "\n",
    "plt.plot(cases_dates, cases_values, label = \"cases\")\n",
    "plt.plot(deaths_dates, deaths_values, label = \"deaths\")\n",
    "plt.plot(recoveries_dates, recoveries_values, label = \"recoveries\")\n",
    "plt.xticks(rotation=45) \n",
    "plt.legend()\n",
    "plt.show()"
   ]
  },
  {
   "cell_type": "code",
   "execution_count": null,
   "metadata": {},
   "outputs": [],
   "source": []
  },
  {
   "cell_type": "code",
   "execution_count": null,
   "metadata": {},
   "outputs": [],
   "source": [
    "plt.figure(num=None, figsize=(20, 10), dpi=80, facecolor='w', edgecolor='k')\n",
    "\n",
    "plt.plot(cases_dates, cases_values, label = \"cases\")\n",
    "plt.plot(deaths_dates, deaths_values, label = \"deaths\")\n",
    "plt.plot(recoveries_dates, recoveries_values, label = \"recoveries\")\n",
    "plt.xticks(rotation=45) \n",
    "plt.legend()\n",
    "plt.show()"
   ]
  },
  {
   "cell_type": "code",
   "execution_count": null,
   "metadata": {},
   "outputs": [],
   "source": []
  },
  {
   "cell_type": "code",
   "execution_count": null,
   "metadata": {},
   "outputs": [],
   "source": [
    "country1_recoveries = cases[cases[\"Country/Region\"] == \"Nigeria\"]\n",
    "country2_recoveries = cases[cases[\"Country/Region\"] == \"Ghana\"]\n",
    "country3_recoveries = cases[cases[\"Country/Region\"] == \"Togo\"]\n",
    "\n",
    "country1_recoveries_dates = country1_recoveries.columns[4::10] # SLICE OFF NON-DATE COLUMN NAMES\n",
    "country1_recoveries_values = country1_recoveries.iloc[0][4::10]\n",
    "\n",
    "country2_recoveries_dates = country2_recoveries.columns[4::10] # SLICE OFF NON-DATE COLUMN NAMES\n",
    "country2_recoveries_values = country2_recoveries.iloc[0][4::10]\n",
    "\n",
    "country3_recoveries_dates = country3_recoveries.columns[4::10] # SLICE OFF NON-DATE COLUMN NAMES\n",
    "country3_recoveries_values = country3_recoveries.iloc[0][4::10]\n",
    "\n",
    "plt.figure(num=None, figsize=(10, 6), dpi=80, facecolor='w', edgecolor='k') # ALTER SIZE OF PLOT \n",
    "\n",
    "plt.plot(country1_recoveries_dates, country1_recoveries_values, label = \"Nigeria\")\n",
    "plt.plot(country2_recoveries_dates, country2_recoveries_values, label = \"Ghana\")\n",
    "plt.plot(country3_recoveries_dates, country3_recoveries_values, label = \"Togo\")\n",
    "\n",
    "plt.xticks(rotation=45) # ROTATE XLABELS\n",
    "plt.legend()\n",
    "plt.show()"
   ]
  },
  {
   "cell_type": "code",
   "execution_count": null,
   "metadata": {
    "scrolled": false
   },
   "outputs": [],
   "source": [
    "country3_values = country3_recoveries_values.reset_index(drop=True).astype(\"int\")\n",
    "country3_values\n",
    "\n",
    "country3_dates_numeric_representation = list(range(len(country3_recoveries_dates)))\n",
    "\n",
    "dataframe = pd.DataFrame({\"dates\":country3_dates_numeric_representation, \"values\":country3_values}).reset_index()\n",
    "\n",
    "sns.lmplot(\"dates\", \"values\", data = dataframe, fit_reg=True, order = 2)\n",
    "plt.show()"
   ]
  },
  {
   "cell_type": "code",
   "execution_count": null,
   "metadata": {},
   "outputs": [],
   "source": [
    "names = [\"ade\", \"jonah\", \"kunle\", \"saheed\", \"sulah\", \"john\", \"mo\", \"spendin\", \"tina\",\"queen\"]\n",
    "reading_hours = [4, 5, 1, 5, 7, 8, 2, 7, 3, 9]\n",
    "exam_scores = [56, 61, 22, 66, 69, 78, 27, 70, 29, 95]\n",
    "weight = [70, 120, 55, 55, 67, 90, 50, 70, 56, 58]"
   ]
  },
  {
   "cell_type": "code",
   "execution_count": null,
   "metadata": {},
   "outputs": [],
   "source": [
    "students_frame = pd.DataFrame(dict(names = names, hours = reading_hours, score = exam_scores, weight = weight))"
   ]
  },
  {
   "cell_type": "code",
   "execution_count": null,
   "metadata": {
    "scrolled": false
   },
   "outputs": [],
   "source": [
    "plt.figure(num=None, figsize=(20, 6)) \n",
    "sns.lmplot(\"hours\", \"score\", data = students_frame, fit_reg = True)\n",
    "# sns.regplot(\"weight\", \"score\", data = students_frame, fit_reg = True)\n",
    "plt.show()"
   ]
  },
  {
   "cell_type": "code",
   "execution_count": null,
   "metadata": {},
   "outputs": [],
   "source": [
    "students_frame.corr() # PEARSON'S CORRELATION COEFFICIENT "
   ]
  },
  {
   "cell_type": "code",
   "execution_count": null,
   "metadata": {},
   "outputs": [],
   "source": [
    "sns.heatmap(students_frame.corr())\n",
    "plt.show()"
   ]
  },
  {
   "cell_type": "code",
   "execution_count": null,
   "metadata": {},
   "outputs": [],
   "source": [
    "correlation_coefficient = students_frame.corr()[\"hours\"].loc[\"score\"]"
   ]
  },
  {
   "cell_type": "code",
   "execution_count": null,
   "metadata": {},
   "outputs": [],
   "source": [
    "#Y = MX+C\n",
    "# C = Y - (M x X)\n",
    "# dependent_variable(score) = rate_of_change_of_hours-scores * independent_variable + point where line crosses the score axis"
   ]
  },
  {
   "cell_type": "code",
   "execution_count": null,
   "metadata": {},
   "outputs": [],
   "source": [
    "56 - (correlation_coefficient * 4)"
   ]
  },
  {
   "cell_type": "code",
   "execution_count": null,
   "metadata": {},
   "outputs": [],
   "source": [
    "X = 7"
   ]
  },
  {
   "cell_type": "code",
   "execution_count": null,
   "metadata": {},
   "outputs": [],
   "source": [
    "correlation_coefficient * X + 52.14286503117553"
   ]
  },
  {
   "cell_type": "code",
   "execution_count": null,
   "metadata": {},
   "outputs": [],
   "source": [
    "students_frame.corr()"
   ]
  },
  {
   "cell_type": "code",
   "execution_count": null,
   "metadata": {},
   "outputs": [],
   "source": [
    "correlation_coefficient = students_frame.corr()[\"hours\"].loc[\"score\"]\n",
    "std_y = students_frame[\"score\"].std()\n",
    "std_x = students_frame[\"hours\"].std()"
   ]
  },
  {
   "cell_type": "code",
   "execution_count": null,
   "metadata": {},
   "outputs": [],
   "source": [
    "deviation_ratio = std_y/std_x \n",
    "slope = correlation_coefficient * deviation_ratio # GET VALUE FOR SLOPE (M) \n",
    "slope"
   ]
  },
  {
   "cell_type": "code",
   "execution_count": null,
   "metadata": {},
   "outputs": [],
   "source": [
    "# Y = MX+C ORIGINAL FORMULA\n",
    "# C = Y - MX CHANGED SUBJECT OF FORMULA\n",
    "intercept = students_frame[\"score\"].mean() - slope * students_frame[\"hours\"].mean()"
   ]
  },
  {
   "cell_type": "code",
   "execution_count": null,
   "metadata": {},
   "outputs": [],
   "source": [
    "intercept"
   ]
  },
  {
   "cell_type": "code",
   "execution_count": null,
   "metadata": {},
   "outputs": [],
   "source": [
    "formula = lambda x: (slope*x)+ intercept \n",
    "\n",
    "def func(x):\n",
    "    y = (slope*x)+ intercept \n",
    "    return y\n",
    "\n",
    "test_vals = [formula(x) for x in reversed(range(10, -3, -1))]\n"
   ]
  },
  {
   "cell_type": "code",
   "execution_count": null,
   "metadata": {},
   "outputs": [],
   "source": [
    "plt.plot(list(reversed(range(10, -3, -1))), test_vals)\n",
    "plt.scatter(students_frame[\"hours\"], students_frame[\"score\"])\n",
    "plt.plot()"
   ]
  },
  {
   "cell_type": "code",
   "execution_count": null,
   "metadata": {},
   "outputs": [],
   "source": [
    "students_frame"
   ]
  },
  {
   "cell_type": "code",
   "execution_count": null,
   "metadata": {},
   "outputs": [],
   "source": [
    "func(8)"
   ]
  },
  {
   "cell_type": "code",
   "execution_count": null,
   "metadata": {},
   "outputs": [],
   "source": []
  },
  {
   "cell_type": "code",
   "execution_count": null,
   "metadata": {},
   "outputs": [],
   "source": [
    "# ANOTHER SAMPLE FOR LINEAR REG "
   ]
  },
  {
   "cell_type": "code",
   "execution_count": null,
   "metadata": {},
   "outputs": [],
   "source": [
    "x = [0, 5, 10, 15, 20, 25, 30, 35]\n",
    "y = [0, 1, 2, 3, 4, 5, 6, 7]\n",
    "# y.reverse()\n",
    "data = pd.DataFrame({\"x\":x, \"y\":y})\n",
    "\n",
    "plt.scatter(data.x, data.y)"
   ]
  },
  {
   "cell_type": "code",
   "execution_count": null,
   "metadata": {},
   "outputs": [],
   "source": [
    "r = data.corr() # GET PEARSONS CORRELATION COEFFICIENT \n",
    "r = r.x.iloc[1]\n",
    "r"
   ]
  },
  {
   "cell_type": "code",
   "execution_count": null,
   "metadata": {},
   "outputs": [],
   "source": [
    "deviation_ratio = data.y.std()/data.x.std()\n",
    "slope = r * deviation_ratio # GET VALUE FOR SLOPE (M) \n",
    "intercept = data[\"y\"].mean() - slope * data[\"x\"].mean()\n",
    "print(intercept, slope)"
   ]
  },
  {
   "cell_type": "code",
   "execution_count": null,
   "metadata": {},
   "outputs": [],
   "source": []
  },
  {
   "cell_type": "code",
   "execution_count": 42,
   "metadata": {},
   "outputs": [
    {
     "data": {
      "text/plain": [
       "7"
      ]
     },
     "execution_count": 42,
     "metadata": {},
     "output_type": "execute_result"
    }
   ],
   "source": [
    "int(slope*35 + intercept)"
   ]
  },
  {
   "cell_type": "code",
   "execution_count": null,
   "metadata": {},
   "outputs": [],
   "source": []
  },
  {
   "cell_type": "code",
   "execution_count": null,
   "metadata": {},
   "outputs": [],
   "source": [
    "# USE SAME CONCEPT ON AUTO DATA"
   ]
  },
  {
   "cell_type": "code",
   "execution_count": 25,
   "metadata": {},
   "outputs": [],
   "source": [
    "dataset = pd.read_csv(\"auto_insurance_sweden (1).csv\")"
   ]
  },
  {
   "cell_type": "code",
   "execution_count": 47,
   "metadata": {},
   "outputs": [
    {
     "data": {
      "text/plain": [
       "<matplotlib.collections.PathCollection at 0x1b7b9bb5b08>"
      ]
     },
     "execution_count": 47,
     "metadata": {},
     "output_type": "execute_result"
    },
    {
     "data": {
      "image/png": "[encoded data removed]",
      "text/plain": [
       "<Figure size 432x288 with 1 Axes>"
      ]
     },
     "metadata": {},
     "output_type": "display_data"
    }
   ],
   "source": [
    "plt.scatter(dataset[\"number of claims\"], dataset[\"total payments\"])"
   ]
  },
  {
   "cell_type": "code",
   "execution_count": 57,
   "metadata": {},
   "outputs": [
    {
     "data": {
      "text/html": [
       "<div>\n",
       "<style scoped>\n",
       "    .dataframe tbody tr th:only-of-type {\n",
       "        vertical-align: middle;\n",
       "    }\n",
       "\n",
       "    .dataframe tbody tr th {\n",
       "        vertical-align: top;\n",
       "    }\n",
       "\n",
       "    .dataframe thead th {\n",
       "        text-align: right;\n",
       "    }\n",
       "</style>\n",
       "<table border=\"1\" class=\"dataframe\">\n",
       "  <thead>\n",
       "    <tr style=\"text-align: right;\">\n",
       "      <th></th>\n",
       "      <th>number of claims</th>\n",
       "      <th>total payments</th>\n",
       "    </tr>\n",
       "  </thead>\n",
       "  <tbody>\n",
       "    <tr>\n",
       "      <th>number of claims</th>\n",
       "      <td>1.000000</td>\n",
       "      <td>0.912878</td>\n",
       "    </tr>\n",
       "    <tr>\n",
       "      <th>total payments</th>\n",
       "      <td>0.912878</td>\n",
       "      <td>1.000000</td>\n",
       "    </tr>\n",
       "  </tbody>\n",
       "</table>\n",
       "</div>"
      ],
      "text/plain": [
       "                  number of claims  total payments\n",
       "number of claims          1.000000        0.912878\n",
       "total payments            0.912878        1.000000"
      ]
     },
     "execution_count": 57,
     "metadata": {},
     "output_type": "execute_result"
    }
   ],
   "source": [
    "r = dataset.corr()[\"total payments\"].iloc[0] # GET R-VALUE OR PEARSON'S CORRELATION COEFICIENT\n",
    "dataset.corr()\n",
    "# r"
   ]
  },
  {
   "cell_type": "code",
   "execution_count": 49,
   "metadata": {},
   "outputs": [
    {
     "name": "stderr",
     "output_type": "stream",
     "text": [
      "No handles with labels found to put in legend.\n"
     ]
    },
    {
     "data": {
      "text/plain": [
       "<matplotlib.legend.Legend at 0x1b7b9c747c8>"
      ]
     },
     "execution_count": 49,
     "metadata": {},
     "output_type": "execute_result"
    },
    {
     "data": {
      "image/png": "[encoded data removed]",
      "text/plain": [
       "<Figure size 360x360 with 1 Axes>"
      ]
     },
     "metadata": {},
     "output_type": "display_data"
    }
   ],
   "source": [
    "sns.lmplot(\"number of claims\", \"total payments\", dataset)"
   ]
  },
  {
   "cell_type": "code",
   "execution_count": 58,
   "metadata": {},
   "outputs": [
    {
     "name": "stdout",
     "output_type": "stream",
     "text": [
      "19.99448575911478 3.413823560066368\n"
     ]
    }
   ],
   "source": [
    "deviation_ratio = dataset[\"total payments\"].std()/dataset[\"number of claims\"].std()\n",
    "slope = r * deviation_ratio # GET VALUE FOR SLOPE (M) \n",
    "intercept = dataset[\"total payments\"].mean() - slope * dataset[\"number of claims\"].mean()\n",
    "print(intercept, slope)"
   ]
  },
  {
   "cell_type": "code",
   "execution_count": 63,
   "metadata": {},
   "outputs": [
    {
     "data": {
      "text/plain": [
       "443"
      ]
     },
     "execution_count": 63,
     "metadata": {},
     "output_type": "execute_result"
    }
   ],
   "source": [
    "int(slope*124 + intercept)"
   ]
  },
  {
   "cell_type": "code",
   "execution_count": 61,
   "metadata": {},
   "outputs": [
    {
     "data": {
      "text/html": [
       "<div>\n",
       "<style scoped>\n",
       "    .dataframe tbody tr th:only-of-type {\n",
       "        vertical-align: middle;\n",
       "    }\n",
       "\n",
       "    .dataframe tbody tr th {\n",
       "        vertical-align: top;\n",
       "    }\n",
       "\n",
       "    .dataframe thead th {\n",
       "        text-align: right;\n",
       "    }\n",
       "</style>\n",
       "<table border=\"1\" class=\"dataframe\">\n",
       "  <thead>\n",
       "    <tr style=\"text-align: right;\">\n",
       "      <th></th>\n",
       "      <th>number of claims</th>\n",
       "      <th>total payments</th>\n",
       "    </tr>\n",
       "  </thead>\n",
       "  <tbody>\n",
       "    <tr>\n",
       "      <th>0</th>\n",
       "      <td>108</td>\n",
       "      <td>392.5</td>\n",
       "    </tr>\n",
       "    <tr>\n",
       "      <th>1</th>\n",
       "      <td>19</td>\n",
       "      <td>46.2</td>\n",
       "    </tr>\n",
       "    <tr>\n",
       "      <th>2</th>\n",
       "      <td>13</td>\n",
       "      <td>15.7</td>\n",
       "    </tr>\n",
       "    <tr>\n",
       "      <th>3</th>\n",
       "      <td>124</td>\n",
       "      <td>422.2</td>\n",
       "    </tr>\n",
       "    <tr>\n",
       "      <th>4</th>\n",
       "      <td>40</td>\n",
       "      <td>119.4</td>\n",
       "    </tr>\n",
       "    <tr>\n",
       "      <th>...</th>\n",
       "      <td>...</td>\n",
       "      <td>...</td>\n",
       "    </tr>\n",
       "    <tr>\n",
       "      <th>58</th>\n",
       "      <td>9</td>\n",
       "      <td>87.4</td>\n",
       "    </tr>\n",
       "    <tr>\n",
       "      <th>59</th>\n",
       "      <td>31</td>\n",
       "      <td>209.8</td>\n",
       "    </tr>\n",
       "    <tr>\n",
       "      <th>60</th>\n",
       "      <td>14</td>\n",
       "      <td>95.5</td>\n",
       "    </tr>\n",
       "    <tr>\n",
       "      <th>61</th>\n",
       "      <td>53</td>\n",
       "      <td>244.6</td>\n",
       "    </tr>\n",
       "    <tr>\n",
       "      <th>62</th>\n",
       "      <td>26</td>\n",
       "      <td>187.5</td>\n",
       "    </tr>\n",
       "  </tbody>\n",
       "</table>\n",
       "<p>63 rows × 2 columns</p>\n",
       "</div>"
      ],
      "text/plain": [
       "    number of claims  total payments\n",
       "0                108           392.5\n",
       "1                 19            46.2\n",
       "2                 13            15.7\n",
       "3                124           422.2\n",
       "4                 40           119.4\n",
       "..               ...             ...\n",
       "58                 9            87.4\n",
       "59                31           209.8\n",
       "60                14            95.5\n",
       "61                53           244.6\n",
       "62                26           187.5\n",
       "\n",
       "[63 rows x 2 columns]"
      ]
     },
     "execution_count": 61,
     "metadata": {},
     "output_type": "execute_result"
    }
   ],
   "source": [
    "dataset"
   ]
  },
  {
   "cell_type": "code",
   "execution_count": null,
   "metadata": {},
   "outputs": [],
   "source": [
    "### deviation_ratio = std_y/std_x \n",
    "slope = correlation_coefficient * deviation_ratio # GET VALUE FOR SLOPE (M) \n",
    "# Y = MX+C ORIGINAL FORMULA\n",
    "# C = Y - MX CHANGED SUBJECT OF FORMULA\n",
    "intercept = students_frame[\"score\"].mean() - slope * students_frame[\"hours\"].mean()\n",
    "formula = lambda x: (slope*x)+ intercept \n",
    "\n",
    "def func(x):\n",
    "    y = (slope*x)+ intercept \n",
    "    return y\n",
    "\n",
    "test_vals = [formula(x) for x in reversed(range(10, -3, -1))]\n",
    "\n",
    "plt.plot(list(reversed(range(10, -3, -1))), test_vals)\n",
    "plt.scatter(students_frame[\"hours\"], students_frame[\"score\"])\n",
    "plt.plot()"
   ]
  },
  {
   "cell_type": "code",
   "execution_count": null,
   "metadata": {},
   "outputs": [],
   "source": []
  },
  {
   "cell_type": "code",
   "execution_count": 1,
   "metadata": {},
   "outputs": [],
   "source": [
    "# PORVERTY TO BIRTH RATE DATA SET LINEAR REGRESSION\n"
   ]
  },
  {
   "cell_type": "code",
   "execution_count": 6,
   "metadata": {},
   "outputs": [],
   "source": [
    "dataset = pd.read_csv(\"Adolescent_Births_2010-2012.csv\")"
   ]
  },
  {
   "cell_type": "code",
   "execution_count": 7,
   "metadata": {},
   "outputs": [
    {
     "data": {
      "text/html": [
       "<div>\n",
       "<style scoped>\n",
       "    .dataframe tbody tr th:only-of-type {\n",
       "        vertical-align: middle;\n",
       "    }\n",
       "\n",
       "    .dataframe tbody tr th {\n",
       "        vertical-align: top;\n",
       "    }\n",
       "\n",
       "    .dataframe thead th {\n",
       "        text-align: right;\n",
       "    }\n",
       "</style>\n",
       "<table border=\"1\" class=\"dataframe\">\n",
       "  <thead>\n",
       "    <tr style=\"text-align: right;\">\n",
       "      <th></th>\n",
       "      <th>YEAR</th>\n",
       "      <th>COUNTY</th>\n",
       "      <th>MSSA_ID</th>\n",
       "      <th>MSSA_NAME</th>\n",
       "      <th>MSSA_TYPE</th>\n",
       "      <th>Race_ethnicity</th>\n",
       "      <th>Population</th>\n",
       "      <th>Adolescent_births</th>\n",
       "      <th>Indicator</th>\n",
       "      <th>Annotation</th>\n",
       "      <th>Indicator_rate</th>\n",
       "      <th>Indicator_ll</th>\n",
       "      <th>Indicator_ul</th>\n",
       "    </tr>\n",
       "  </thead>\n",
       "  <tbody>\n",
       "    <tr>\n",
       "      <th>0</th>\n",
       "      <td>2010-2012</td>\n",
       "      <td>Modoc</td>\n",
       "      <td>100</td>\n",
       "      <td>Adin/Lookout/Newell</td>\n",
       "      <td>Frontier</td>\n",
       "      <td>ASIAN</td>\n",
       "      <td>0</td>\n",
       "      <td>0.0</td>\n",
       "      <td>ABR</td>\n",
       "      <td>NaN</td>\n",
       "      <td>0.0</td>\n",
       "      <td>NaN</td>\n",
       "      <td>NaN</td>\n",
       "    </tr>\n",
       "    <tr>\n",
       "      <th>1</th>\n",
       "      <td>2010-2012</td>\n",
       "      <td>Modoc</td>\n",
       "      <td>100</td>\n",
       "      <td>Adin/Lookout/Newell</td>\n",
       "      <td>Frontier</td>\n",
       "      <td>ASIAN</td>\n",
       "      <td>0</td>\n",
       "      <td>0.0</td>\n",
       "      <td>PRB</td>\n",
       "      <td>NaN</td>\n",
       "      <td>0.0</td>\n",
       "      <td>NaN</td>\n",
       "      <td>NaN</td>\n",
       "    </tr>\n",
       "    <tr>\n",
       "      <th>2</th>\n",
       "      <td>2010-2012</td>\n",
       "      <td>Modoc</td>\n",
       "      <td>100</td>\n",
       "      <td>Adin/Lookout/Newell</td>\n",
       "      <td>Frontier</td>\n",
       "      <td>ASIAN</td>\n",
       "      <td>0</td>\n",
       "      <td>0.0</td>\n",
       "      <td>PBHP</td>\n",
       "      <td>NaN</td>\n",
       "      <td>0.0</td>\n",
       "      <td>NaN</td>\n",
       "      <td>NaN</td>\n",
       "    </tr>\n",
       "    <tr>\n",
       "      <th>3</th>\n",
       "      <td>2010-2012</td>\n",
       "      <td>Modoc</td>\n",
       "      <td>100</td>\n",
       "      <td>Adin/Lookout/Newell</td>\n",
       "      <td>Frontier</td>\n",
       "      <td>BLACK</td>\n",
       "      <td>0</td>\n",
       "      <td>0.0</td>\n",
       "      <td>ABR</td>\n",
       "      <td>NaN</td>\n",
       "      <td>0.0</td>\n",
       "      <td>NaN</td>\n",
       "      <td>NaN</td>\n",
       "    </tr>\n",
       "    <tr>\n",
       "      <th>4</th>\n",
       "      <td>2010-2012</td>\n",
       "      <td>Modoc</td>\n",
       "      <td>100</td>\n",
       "      <td>Adin/Lookout/Newell</td>\n",
       "      <td>Frontier</td>\n",
       "      <td>BLACK</td>\n",
       "      <td>0</td>\n",
       "      <td>0.0</td>\n",
       "      <td>PRB</td>\n",
       "      <td>NaN</td>\n",
       "      <td>0.0</td>\n",
       "      <td>NaN</td>\n",
       "      <td>NaN</td>\n",
       "    </tr>\n",
       "    <tr>\n",
       "      <th>...</th>\n",
       "      <td>...</td>\n",
       "      <td>...</td>\n",
       "      <td>...</td>\n",
       "      <td>...</td>\n",
       "      <td>...</td>\n",
       "      <td>...</td>\n",
       "      <td>...</td>\n",
       "      <td>...</td>\n",
       "      <td>...</td>\n",
       "      <td>...</td>\n",
       "      <td>...</td>\n",
       "      <td>...</td>\n",
       "      <td>...</td>\n",
       "    </tr>\n",
       "    <tr>\n",
       "      <th>8125</th>\n",
       "      <td>2010-2012</td>\n",
       "      <td>Modoc</td>\n",
       "      <td>99</td>\n",
       "      <td>Surprise Valley</td>\n",
       "      <td>Frontier</td>\n",
       "      <td>ALL</td>\n",
       "      <td>97</td>\n",
       "      <td>NaN</td>\n",
       "      <td>PRB</td>\n",
       "      <td>2.0</td>\n",
       "      <td>NaN</td>\n",
       "      <td>NaN</td>\n",
       "      <td>NaN</td>\n",
       "    </tr>\n",
       "    <tr>\n",
       "      <th>8126</th>\n",
       "      <td>2010-2012</td>\n",
       "      <td>Modoc</td>\n",
       "      <td>99</td>\n",
       "      <td>Surprise Valley</td>\n",
       "      <td>Frontier</td>\n",
       "      <td>ALL</td>\n",
       "      <td>97</td>\n",
       "      <td>NaN</td>\n",
       "      <td>PBHP</td>\n",
       "      <td>2.0</td>\n",
       "      <td>0.0</td>\n",
       "      <td>NaN</td>\n",
       "      <td>NaN</td>\n",
       "    </tr>\n",
       "    <tr>\n",
       "      <th>8127</th>\n",
       "      <td>2010-2012</td>\n",
       "      <td>Modoc</td>\n",
       "      <td>99</td>\n",
       "      <td>Surprise Valley</td>\n",
       "      <td>Frontier</td>\n",
       "      <td>WHITE</td>\n",
       "      <td>53</td>\n",
       "      <td>NaN</td>\n",
       "      <td>ABR</td>\n",
       "      <td>2.0</td>\n",
       "      <td>NaN</td>\n",
       "      <td>NaN</td>\n",
       "      <td>NaN</td>\n",
       "    </tr>\n",
       "    <tr>\n",
       "      <th>8128</th>\n",
       "      <td>2010-2012</td>\n",
       "      <td>Modoc</td>\n",
       "      <td>99</td>\n",
       "      <td>Surprise Valley</td>\n",
       "      <td>Frontier</td>\n",
       "      <td>WHITE</td>\n",
       "      <td>53</td>\n",
       "      <td>NaN</td>\n",
       "      <td>PRB</td>\n",
       "      <td>2.0</td>\n",
       "      <td>NaN</td>\n",
       "      <td>NaN</td>\n",
       "      <td>NaN</td>\n",
       "    </tr>\n",
       "    <tr>\n",
       "      <th>8129</th>\n",
       "      <td>2010-2012</td>\n",
       "      <td>Modoc</td>\n",
       "      <td>99</td>\n",
       "      <td>Surprise Valley</td>\n",
       "      <td>Frontier</td>\n",
       "      <td>WHITE</td>\n",
       "      <td>53</td>\n",
       "      <td>NaN</td>\n",
       "      <td>PBHP</td>\n",
       "      <td>2.0</td>\n",
       "      <td>0.0</td>\n",
       "      <td>NaN</td>\n",
       "      <td>NaN</td>\n",
       "    </tr>\n",
       "  </tbody>\n",
       "</table>\n",
       "<p>8130 rows × 13 columns</p>\n",
       "</div>"
      ],
      "text/plain": [
       "           YEAR COUNTY MSSA_ID            MSSA_NAME MSSA_TYPE Race_ethnicity  \\\n",
       "0     2010-2012  Modoc     100  Adin/Lookout/Newell  Frontier          ASIAN   \n",
       "1     2010-2012  Modoc     100  Adin/Lookout/Newell  Frontier          ASIAN   \n",
       "2     2010-2012  Modoc     100  Adin/Lookout/Newell  Frontier          ASIAN   \n",
       "3     2010-2012  Modoc     100  Adin/Lookout/Newell  Frontier          BLACK   \n",
       "4     2010-2012  Modoc     100  Adin/Lookout/Newell  Frontier          BLACK   \n",
       "...         ...    ...     ...                  ...       ...            ...   \n",
       "8125  2010-2012  Modoc      99      Surprise Valley  Frontier            ALL   \n",
       "8126  2010-2012  Modoc      99      Surprise Valley  Frontier            ALL   \n",
       "8127  2010-2012  Modoc      99      Surprise Valley  Frontier          WHITE   \n",
       "8128  2010-2012  Modoc      99      Surprise Valley  Frontier          WHITE   \n",
       "8129  2010-2012  Modoc      99      Surprise Valley  Frontier          WHITE   \n",
       "\n",
       "      Population  Adolescent_births Indicator  Annotation  Indicator_rate  \\\n",
       "0              0                0.0       ABR         NaN             0.0   \n",
       "1              0                0.0       PRB         NaN             0.0   \n",
       "2              0                0.0      PBHP         NaN             0.0   \n",
       "3              0                0.0       ABR         NaN             0.0   \n",
       "4              0                0.0       PRB         NaN             0.0   \n",
       "...          ...                ...       ...         ...             ...   \n",
       "8125          97                NaN       PRB         2.0             NaN   \n",
       "8126          97                NaN      PBHP         2.0             0.0   \n",
       "8127          53                NaN       ABR         2.0             NaN   \n",
       "8128          53                NaN       PRB         2.0             NaN   \n",
       "8129          53                NaN      PBHP         2.0             0.0   \n",
       "\n",
       "      Indicator_ll  Indicator_ul  \n",
       "0              NaN           NaN  \n",
       "1              NaN           NaN  \n",
       "2              NaN           NaN  \n",
       "3              NaN           NaN  \n",
       "4              NaN           NaN  \n",
       "...            ...           ...  \n",
       "8125           NaN           NaN  \n",
       "8126           NaN           NaN  \n",
       "8127           NaN           NaN  \n",
       "8128           NaN           NaN  \n",
       "8129           NaN           NaN  \n",
       "\n",
       "[8130 rows x 13 columns]"
      ]
     },
     "execution_count": 7,
     "metadata": {},
     "output_type": "execute_result"
    }
   ],
   "source": [
    "dataset"
   ]
  },
  {
   "cell_type": "code",
   "execution_count": 36,
   "metadata": {},
   "outputs": [
    {
     "data": {
      "text/html": [
       "<div>\n",
       "<style scoped>\n",
       "    .dataframe tbody tr th:only-of-type {\n",
       "        vertical-align: middle;\n",
       "    }\n",
       "\n",
       "    .dataframe tbody tr th {\n",
       "        vertical-align: top;\n",
       "    }\n",
       "\n",
       "    .dataframe thead th {\n",
       "        text-align: right;\n",
       "    }\n",
       "</style>\n",
       "<table border=\"1\" class=\"dataframe\">\n",
       "  <thead>\n",
       "    <tr style=\"text-align: right;\">\n",
       "      <th></th>\n",
       "      <th></th>\n",
       "      <th>Population</th>\n",
       "      <th>Adolescent_births</th>\n",
       "    </tr>\n",
       "    <tr>\n",
       "      <th>Race_ethnicity</th>\n",
       "      <th></th>\n",
       "      <th></th>\n",
       "      <th></th>\n",
       "    </tr>\n",
       "  </thead>\n",
       "  <tbody>\n",
       "    <tr>\n",
       "      <th rowspan=\"2\" valign=\"top\">ALL</th>\n",
       "      <th>Population</th>\n",
       "      <td>1.000000</td>\n",
       "      <td>0.720475</td>\n",
       "    </tr>\n",
       "    <tr>\n",
       "      <th>Adolescent_births</th>\n",
       "      <td>0.720475</td>\n",
       "      <td>1.000000</td>\n",
       "    </tr>\n",
       "    <tr>\n",
       "      <th rowspan=\"2\" valign=\"top\">ASIAN</th>\n",
       "      <th>Population</th>\n",
       "      <td>1.000000</td>\n",
       "      <td>0.474111</td>\n",
       "    </tr>\n",
       "    <tr>\n",
       "      <th>Adolescent_births</th>\n",
       "      <td>0.474111</td>\n",
       "      <td>1.000000</td>\n",
       "    </tr>\n",
       "    <tr>\n",
       "      <th rowspan=\"2\" valign=\"top\">BLACK</th>\n",
       "      <th>Population</th>\n",
       "      <td>1.000000</td>\n",
       "      <td>0.897731</td>\n",
       "    </tr>\n",
       "    <tr>\n",
       "      <th>Adolescent_births</th>\n",
       "      <td>0.897731</td>\n",
       "      <td>1.000000</td>\n",
       "    </tr>\n",
       "    <tr>\n",
       "      <th rowspan=\"2\" valign=\"top\">HISP</th>\n",
       "      <th>Population</th>\n",
       "      <td>1.000000</td>\n",
       "      <td>0.931971</td>\n",
       "    </tr>\n",
       "    <tr>\n",
       "      <th>Adolescent_births</th>\n",
       "      <td>0.931971</td>\n",
       "      <td>1.000000</td>\n",
       "    </tr>\n",
       "    <tr>\n",
       "      <th rowspan=\"2\" valign=\"top\">WHITE</th>\n",
       "      <th>Population</th>\n",
       "      <td>1.000000</td>\n",
       "      <td>0.414688</td>\n",
       "    </tr>\n",
       "    <tr>\n",
       "      <th>Adolescent_births</th>\n",
       "      <td>0.414688</td>\n",
       "      <td>1.000000</td>\n",
       "    </tr>\n",
       "  </tbody>\n",
       "</table>\n",
       "</div>"
      ],
      "text/plain": [
       "                                  Population  Adolescent_births\n",
       "Race_ethnicity                                                 \n",
       "ALL            Population           1.000000           0.720475\n",
       "               Adolescent_births    0.720475           1.000000\n",
       "ASIAN          Population           1.000000           0.474111\n",
       "               Adolescent_births    0.474111           1.000000\n",
       "BLACK          Population           1.000000           0.897731\n",
       "               Adolescent_births    0.897731           1.000000\n",
       "HISP           Population           1.000000           0.931971\n",
       "               Adolescent_births    0.931971           1.000000\n",
       "WHITE          Population           1.000000           0.414688\n",
       "               Adolescent_births    0.414688           1.000000"
      ]
     },
     "execution_count": 36,
     "metadata": {},
     "output_type": "execute_result"
    }
   ],
   "source": [
    "dataset[[\"Race_ethnicity\",\"Population\",\"Adolescent_births\"]].groupby(\"Race_ethnicity\").corr()"
   ]
  },
  {
   "cell_type": "code",
   "execution_count": 12,
   "metadata": {},
   "outputs": [],
   "source": [
    "grouped_data = dataset[[\"Race_ethnicity\",\"Population\",\"Adolescent_births\"]].groupby(\"Race_ethnicity\")"
   ]
  },
  {
   "cell_type": "code",
   "execution_count": 23,
   "metadata": {},
   "outputs": [
    {
     "data": {
      "text/plain": [
       "dict_keys(['ALL', 'ASIAN', 'BLACK', 'HISP', 'WHITE'])"
      ]
     },
     "execution_count": 23,
     "metadata": {},
     "output_type": "execute_result"
    }
   ],
   "source": [
    "grouped_data.groups.keys()"
   ]
  },
  {
   "cell_type": "code",
   "execution_count": 38,
   "metadata": {},
   "outputs": [
    {
     "name": "stdout",
     "output_type": "stream",
     "text": [
      "{'RACE': ['ALL', 'ASIAN', 'BLACK', 'HISP', 'WHITE'], 'POP-BIRTH RELATIONSHIP': [0.720474949610708, 0.4741112047301059, 0.8977308826645487, 0.9319712267085862, 0.4146878471992894]}\n"
     ]
    }
   ],
   "source": [
    "new_dict = {\"RACE\":[], \"POP-BIRTH RELATIONSHIP\":[]}\n",
    "\n",
    "for race in grouped_data.groups.keys():\n",
    "    \n",
    "    race_CORRELATION = grouped_data.get_group(race).corr().Population.iloc[1]\n",
    "    new_dict[\"RACE\"].append(race)\n",
    "    new_dict[\"POP-BIRTH RELATIONSHIP\"].append(race_CORRELATION)\n",
    "print(new_dict)"
   ]
  },
  {
   "cell_type": "code",
   "execution_count": 40,
   "metadata": {},
   "outputs": [
    {
     "data": {
      "text/html": [
       "<div>\n",
       "<style scoped>\n",
       "    .dataframe tbody tr th:only-of-type {\n",
       "        vertical-align: middle;\n",
       "    }\n",
       "\n",
       "    .dataframe tbody tr th {\n",
       "        vertical-align: top;\n",
       "    }\n",
       "\n",
       "    .dataframe thead th {\n",
       "        text-align: right;\n",
       "    }\n",
       "</style>\n",
       "<table border=\"1\" class=\"dataframe\">\n",
       "  <thead>\n",
       "    <tr style=\"text-align: right;\">\n",
       "      <th></th>\n",
       "      <th>RACE</th>\n",
       "      <th>POP-BIRTH RELATIONSHIP</th>\n",
       "    </tr>\n",
       "  </thead>\n",
       "  <tbody>\n",
       "    <tr>\n",
       "      <th>3</th>\n",
       "      <td>HISP</td>\n",
       "      <td>0.931971</td>\n",
       "    </tr>\n",
       "    <tr>\n",
       "      <th>2</th>\n",
       "      <td>BLACK</td>\n",
       "      <td>0.897731</td>\n",
       "    </tr>\n",
       "    <tr>\n",
       "      <th>0</th>\n",
       "      <td>ALL</td>\n",
       "      <td>0.720475</td>\n",
       "    </tr>\n",
       "    <tr>\n",
       "      <th>1</th>\n",
       "      <td>ASIAN</td>\n",
       "      <td>0.474111</td>\n",
       "    </tr>\n",
       "    <tr>\n",
       "      <th>4</th>\n",
       "      <td>WHITE</td>\n",
       "      <td>0.414688</td>\n",
       "    </tr>\n",
       "  </tbody>\n",
       "</table>\n",
       "</div>"
      ],
      "text/plain": [
       "    RACE  POP-BIRTH RELATIONSHIP\n",
       "3   HISP                0.931971\n",
       "2  BLACK                0.897731\n",
       "0    ALL                0.720475\n",
       "1  ASIAN                0.474111\n",
       "4  WHITE                0.414688"
      ]
     },
     "execution_count": 40,
     "metadata": {},
     "output_type": "execute_result"
    }
   ],
   "source": [
    "pd.DataFrame(new_dict).sort_values(\"POP-BIRTH RELATIONSHIP\", ascending = False)"
   ]
  },
  {
   "cell_type": "code",
   "execution_count": 42,
   "metadata": {},
   "outputs": [
    {
     "data": {
      "text/html": [
       "<div>\n",
       "<style scoped>\n",
       "    .dataframe tbody tr th:only-of-type {\n",
       "        vertical-align: middle;\n",
       "    }\n",
       "\n",
       "    .dataframe tbody tr th {\n",
       "        vertical-align: top;\n",
       "    }\n",
       "\n",
       "    .dataframe thead th {\n",
       "        text-align: right;\n",
       "    }\n",
       "</style>\n",
       "<table border=\"1\" class=\"dataframe\">\n",
       "  <thead>\n",
       "    <tr style=\"text-align: right;\">\n",
       "      <th></th>\n",
       "      <th>Population</th>\n",
       "      <th>Adolescent_births</th>\n",
       "    </tr>\n",
       "    <tr>\n",
       "      <th>Race_ethnicity</th>\n",
       "      <th></th>\n",
       "      <th></th>\n",
       "    </tr>\n",
       "  </thead>\n",
       "  <tbody>\n",
       "    <tr>\n",
       "      <th>ALL</th>\n",
       "      <td>12294963</td>\n",
       "      <td>343038.0</td>\n",
       "    </tr>\n",
       "    <tr>\n",
       "      <th>ASIAN</th>\n",
       "      <td>1336269</td>\n",
       "      <td>6081.0</td>\n",
       "    </tr>\n",
       "    <tr>\n",
       "      <th>BLACK</th>\n",
       "      <td>782394</td>\n",
       "      <td>25614.0</td>\n",
       "    </tr>\n",
       "    <tr>\n",
       "      <th>HISP</th>\n",
       "      <td>5953029</td>\n",
       "      <td>252639.0</td>\n",
       "    </tr>\n",
       "    <tr>\n",
       "      <th>WHITE</th>\n",
       "      <td>3674706</td>\n",
       "      <td>40251.0</td>\n",
       "    </tr>\n",
       "  </tbody>\n",
       "</table>\n",
       "</div>"
      ],
      "text/plain": [
       "                Population  Adolescent_births\n",
       "Race_ethnicity                               \n",
       "ALL               12294963           343038.0\n",
       "ASIAN              1336269             6081.0\n",
       "BLACK               782394            25614.0\n",
       "HISP               5953029           252639.0\n",
       "WHITE              3674706            40251.0"
      ]
     },
     "execution_count": 42,
     "metadata": {},
     "output_type": "execute_result"
    }
   ],
   "source": [
    "dataset[[\"MSSA_TYPE\", \"Race_ethnicity\",\"Population\",\"Adolescent_births\"]].groupby(\"Race_ethnicity\").sum()"
   ]
  },
  {
   "cell_type": "code",
   "execution_count": 1,
   "metadata": {},
   "outputs": [],
   "source": [
    "from sklearn.linear_model import LinearRegression\n",
    "from sklearn.model_selection import train_test_split"
   ]
  },
  {
   "cell_type": "code",
   "execution_count": 150,
   "metadata": {},
   "outputs": [],
   "source": [
    "model = LinearRegression(n_jobs = 10)"
   ]
  },
  {
   "cell_type": "code",
   "execution_count": 151,
   "metadata": {},
   "outputs": [],
   "source": [
    "X_train, X_test, y_train, y_test = train_test_split(students_frame.hours, students_frame.score, test_size=1, random_state=10)\n"
   ]
  },
  {
   "cell_type": "code",
   "execution_count": 152,
   "metadata": {},
   "outputs": [
    {
     "data": {
      "text/plain": [
       "LinearRegression(n_jobs=10)"
      ]
     },
     "execution_count": 152,
     "metadata": {},
     "output_type": "execute_result"
    }
   ],
   "source": [
    "model.fit(np.array(X_train).reshape(-1, 1), np.array(y_train).reshape(-1, 1))"
   ]
  },
  {
   "cell_type": "code",
   "execution_count": 153,
   "metadata": {},
   "outputs": [
    {
     "data": {
      "text/plain": [
       "array([[32.53256705]])"
      ]
     },
     "execution_count": 153,
     "metadata": {},
     "output_type": "execute_result"
    }
   ],
   "source": [
    "model.predict([[2]])"
   ]
  },
  {
   "cell_type": "code",
   "execution_count": 154,
   "metadata": {},
   "outputs": [
    {
     "data": {
      "text/plain": [
       "array([15.78544061])"
      ]
     },
     "execution_count": 154,
     "metadata": {},
     "output_type": "execute_result"
    }
   ],
   "source": [
    "model.intercept_"
   ]
  },
  {
   "cell_type": "code",
   "execution_count": 155,
   "metadata": {},
   "outputs": [
    {
     "data": {
      "text/plain": [
       "array([[8.37356322]])"
      ]
     },
     "execution_count": 155,
     "metadata": {},
     "output_type": "execute_result"
    }
   ],
   "source": [
    "model.coef_"
   ]
  }
 ],
 "metadata": {
  "kernelspec": {
   "display_name": "Python 3",
   "language": "python",
   "name": "python3"
  },
  "language_info": {
   "codemirror_mode": {
    "name": "ipython",
    "version": 3
   },
   "file_extension": ".py",
   "mimetype": "text/x-python",
   "name": "python",
   "nbconvert_exporter": "python",
   "pygments_lexer": "ipython3",
   "version": "3.7.8"
  }
 },
 "nbformat": 4,
 "nbformat_minor": 4
}
