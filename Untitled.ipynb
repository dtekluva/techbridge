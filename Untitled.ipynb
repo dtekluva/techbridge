{
 "cells": [
  {
   "cell_type": "code",
   "execution_count": 1,
   "metadata": {},
   "outputs": [],
   "source": [
    "import requests"
   ]
  },
  {
   "cell_type": "code",
   "execution_count": null,
   "metadata": {},
   "outputs": [],
   "source": [
    "\n",
    "##APIs AS DICTIONARY SOURCE\n",
    "\n",
    "api_key = \"336b102582e7d317c464efd5e6ac86aa\"\n",
    "city_id = \"2332453\"\n",
    "\n",
    "url = f\"http://api.openweathermap.org/data/2.5/forecast?id={city_id}&APPID={api_key}\"\n",
    "\n",
    "fetch = requests.get(f\"{url}\")\n",
    "data = fetch.json()\n",
    "\n",
    "print(data)"
   ]
  },
  {
   "cell_type": "code",
   "execution_count": 27,
   "metadata": {},
   "outputs": [],
   "source": [
    "response  = requests.get(\"http://beeep.pythonanywhere.com/auth/get_verification_code/08031346306\").json()"
   ]
  },
  {
   "cell_type": "code",
   "execution_count": 29,
   "metadata": {},
   "outputs": [
    {
     "data": {
      "text/plain": [
       "dict_keys(['response'])"
      ]
     },
     "execution_count": 29,
     "metadata": {},
     "output_type": "execute_result"
    }
   ],
   "source": [
    "response.keys()"
   ]
  },
  {
   "cell_type": "code",
   "execution_count": 30,
   "metadata": {},
   "outputs": [
    {
     "data": {
      "text/plain": [
       "{'task_successful': True,\n",
       " 'code': {'code': 200, 'detail': '(OK)'},\n",
       " 'content': {'verification_code': {'date': '25-06-2020', 'code': '5118'},\n",
       "  'message': ''},\n",
       " 'auth_keys': {'access_token': []}}"
      ]
     },
     "execution_count": 30,
     "metadata": {},
     "output_type": "execute_result"
    }
   ],
   "source": [
    "response.get(\"response\")"
   ]
  },
  {
   "cell_type": "code",
   "execution_count": 34,
   "metadata": {},
   "outputs": [
    {
     "data": {
      "text/plain": [
       "{'verification_code': {'date': '25-06-2020', 'code': '5118'}, 'message': ''}"
      ]
     },
     "execution_count": 34,
     "metadata": {},
     "output_type": "execute_result"
    }
   ],
   "source": [
    "response.get(\"response\").get(\"content\")"
   ]
  }
 ],
 "metadata": {
  "kernelspec": {
   "display_name": "Python 3",
   "language": "python",
   "name": "python3"
  },
  "language_info": {
   "codemirror_mode": {
    "name": "ipython",
    "version": 3
   },
   "file_extension": ".py",
   "mimetype": "text/x-python",
   "name": "python",
   "nbconvert_exporter": "python",
   "pygments_lexer": "ipython3",
   "version": "3.7.8"
  }
 },
 "nbformat": 4,
 "nbformat_minor": 4
}
